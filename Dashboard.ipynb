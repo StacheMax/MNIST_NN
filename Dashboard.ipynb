{
 "cells": [
  {
   "cell_type": "code",
   "execution_count": 1,
   "id": "2717cca2-21b1-4175-89c8-80869deb48b9",
   "metadata": {
    "tags": []
   },
   "outputs": [],
   "source": [
    "import random\n",
    "import numpy as np\n",
    "import seaborn as sn\n",
    "import tensorflow as tf\n",
    "import ipywidgets as widgets\n",
    "import matplotlib.pyplot as plt\n",
    "\n",
    "from ipywidgets import Output\n",
    "from tensorflow.keras.datasets import mnist\n",
    "from IPython.display import display\n",
    "from mpl_toolkits.mplot3d import axes3d\n",
    "from matplotlib.colors import ListedColormap\n",
    "from sklearn import decomposition, preprocessing\n",
    "from ipywidgets import interact, interactive, fixed, interact_manual\n",
    "\n",
    "%matplotlib widget"
   ]
  },
  {
   "cell_type": "code",
   "execution_count": 2,
   "id": "534f1fad-dae9-46b1-8494-502189e9af29",
   "metadata": {
    "tags": []
   },
   "outputs": [],
   "source": [
    "# load (downloaded if needed) the MNIST dataset\n",
    "(X_train, y_train), (X_test, y_test) = mnist.load_data()"
   ]
  },
  {
   "cell_type": "markdown",
   "id": "6d052c4b-c276-4957-8312-b060c2f805fc",
   "metadata": {},
   "source": [
    "Model Metrics:"
   ]
  },
  {
   "cell_type": "code",
   "execution_count": 3,
   "id": "7cd81aa8-a200-452d-ba1b-c28ece07cb59",
   "metadata": {},
   "outputs": [
    {
     "name": "stdout",
     "output_type": "stream",
     "text": [
      "Loss: 0.07102\n",
      "Accuracy: 0.9809\n"
     ]
    }
   ],
   "source": [
    "# Import trained model\n",
    "\n",
    "model_test = X_test / 255.0\n",
    "\n",
    "model = tf.keras.models.load_model('mnist_model.h5')\n",
    "probability_model = tf.keras.Sequential([model, \n",
    "                                         tf.keras.layers.Softmax()])\n",
    "predictions = probability_model.predict(model_test)\n",
    "metrics = model.evaluate(model_test, y_test, steps=10000, verbose = 0)\n",
    "print('Loss: ' + str(round(metrics[0], 5)))\n",
    "print('Accuracy: ' + str(round(metrics[1], 4)))\n",
    "#print(np.argmax(predictions[0]))\n",
    "def classify(index):\n",
    "    return np.argmax(predictions[index])"
   ]
  },
  {
   "cell_type": "code",
   "execution_count": 4,
   "id": "2b7d8019-dd05-4c86-b08a-e172d26c342b",
   "metadata": {},
   "outputs": [],
   "source": [
    "\n",
    "def create_eval_plot(): #Populates output widget with the plot display information\n",
    "    fig1 = plt.figure(\"Random Set of Test Images\")\n",
    "    plt.clf()\n",
    "    #Show 4 images from the test set in a 2x2 grid\n",
    "    rand_temp = random.randint(0,10000)\n",
    "    fig1.add_subplot(221).title.set_text('Model guess: ' + str(classify(rand_temp)) + '\\n Correct label: ' + str(y_test[rand_temp]))\n",
    "    plt.imshow(X_test[rand_temp], cmap=plt.get_cmap('gray'))\n",
    "    rand_temp = random.randint(0,10000)\n",
    "    fig1.add_subplot(222).title.set_text('Model guess: ' + str(classify(rand_temp)) + '\\n Correct label: ' + str(y_test[rand_temp]))\n",
    "    plt.imshow(X_test[rand_temp], cmap=plt.get_cmap('gray'))\n",
    "    rand_temp = random.randint(0,10000)\n",
    "    fig1.add_subplot(223).title.set_text('Model guess: ' + str(classify(rand_temp)) + '\\n Correct label: ' + str(y_test[rand_temp]))\n",
    "    plt.imshow(X_test[rand_temp], cmap=plt.get_cmap('gray'))\n",
    "    rand_temp = random.randint(0,10000)\n",
    "    fig1.add_subplot(224).title.set_text('Model guess: ' + str(classify(rand_temp)) + '\\n Correct label: ' + str(y_test[rand_temp]))\n",
    "    plt.imshow(X_test[rand_temp], cmap=plt.get_cmap('gray'))\n",
    "    \n",
    "    fig1.subplots_adjust(hspace=0.5)\n",
    "    plt.show()\n",
    "eval_out = widgets.Output()\n",
    "with eval_out:\n",
    "    out = widgets.interact_manual(create_eval_plot)\n",
    "    out.widget.children[0].description = 'New Random Set'"
   ]
  },
  {
   "cell_type": "code",
   "execution_count": 5,
   "id": "0c32483b-c22d-458e-ad88-ce74ccc18775",
   "metadata": {},
   "outputs": [],
   "source": [
    "counts = np.bincount(y_train) #Counts occurences of each digit\n",
    "bar_out = widgets.Output()\n",
    "with bar_out: #Populates output widget with the plot display information\n",
    "    fig4 = plt.figure('Number Frequency in Training Set')\n",
    "    ax = plt.subplot()\n",
    "    ax.bar(range(10), counts, width=0.8, align='center')\n",
    "    ax.set(xticks=range(10), xlim=[-1, 10])\n",
    "    fig4.add_subplot(ax)\n",
    "\n",
    "    plt.show()"
   ]
  },
  {
   "cell_type": "code",
   "execution_count": 6,
   "id": "931e3690-2301-461d-bb97-70dae2d5211b",
   "metadata": {},
   "outputs": [],
   "source": [
    "#Turn each training image into a 1x784 array for processing\n",
    "data = np.reshape(X_train, (60000, 784))\n",
    "\n",
    "#Reduce the 784 dimentions into 3 principle components, making it a 60,000x3 array\n",
    "standardized_data = preprocessing.StandardScaler().fit_transform(data)\n",
    "pca=decomposition.PCA()\n",
    "pca.n_components = 3\n",
    "pca_data = pca.fit_transform(standardized_data)\n",
    "\n",
    "#Generate color palette\n",
    "cmap = ListedColormap(sn.color_palette(\"husl\", 256).as_hex())\n",
    "\n",
    "#Choose 1000 samples to display, using all 60,000 was too slow. \n",
    "#index is the starting index.\n",
    "window = 0\n",
    "\n",
    "window_slider = widgets.IntSlider(value = 1000, min = 100, max = 60000, step = 100)\n",
    "index_slider = widgets.IntSlider(value = 0, min = 0, max = 59000, step = 100)\n",
    "\n",
    "def update_index_max(*args):\n",
    "    index_slider.max = 60000 - window_slider.value\n",
    "window_slider.observe(update_index_max, 'value')\n",
    "\n",
    "scatter_out = widgets.Output()\n",
    "\n",
    "def draw_scatter(window, start, pca_data):\n",
    "\n",
    "    pca_data = pca_data[start:start+window]\n",
    "    labels = y_train[start:start+window]\n",
    "\n",
    "    #Swap array dimensions so the principle components can be fed to the plot\n",
    "    pca_data = pca_data.T \n",
    "    fig = plt.figure('Principle Component Analysis')\n",
    "    plt.clf()\n",
    "    ax = axes3d.Axes3D(fig, auto_add_to_figure=False)\n",
    "\n",
    "    fig.add_axes(ax)\n",
    "    #Sets each principle component as an axis, assignes color based on the label,\n",
    "    #and uses the palette that was previously generated\n",
    "    sc = ax.scatter(pca_data[0], pca_data[1], pca_data[2], c=labels, cmap = cmap)\n",
    "\n",
    "    plt.legend(*sc.legend_elements(),  loc=1) #Generates legend\n",
    "\n",
    "    plt.show()\n",
    "with scatter_out:\n",
    "    interact(draw_scatter, window=window_slider, start=index_slider, pca_data=fixed(pca_data))"
   ]
  },
  {
   "cell_type": "code",
   "execution_count": 7,
   "id": "b45742ed-2937-4830-acc8-63ba5908742e",
   "metadata": {},
   "outputs": [
    {
     "data": {
      "application/vnd.jupyter.widget-view+json": {
       "model_id": "eb41f99f669149749617eae89bd31ad4",
       "version_major": 2,
       "version_minor": 0
      },
      "text/plain": [
       "Tab(children=(Output(), Output(), Output()), _titles={'0': 'PCA', '1': 'Bar Chart', '2': 'Evaluation'})"
      ]
     },
     "metadata": {},
     "output_type": "display_data"
    }
   ],
   "source": [
    "tab = widgets.Tab()\n",
    "tab.children = [scatter_out, bar_out, eval_out]\n",
    "tab.set_title(0, 'PCA')\n",
    "tab.set_title(1, 'Bar Chart')\n",
    "tab.set_title(2, 'Evaluation')\n",
    "display(tab)"
   ]
  },
  {
   "cell_type": "code",
   "execution_count": null,
   "id": "995095a3-51ff-4e6c-a6f3-edff746aef16",
   "metadata": {},
   "outputs": [],
   "source": []
  }
 ],
 "metadata": {
  "kernelspec": {
   "display_name": "Python 3",
   "language": "python",
   "name": "python3"
  },
  "language_info": {
   "codemirror_mode": {
    "name": "ipython",
    "version": 3
   },
   "file_extension": ".py",
   "mimetype": "text/x-python",
   "name": "python",
   "nbconvert_exporter": "python",
   "pygments_lexer": "ipython3",
   "version": "3.9.5"
  }
 },
 "nbformat": 4,
 "nbformat_minor": 5
}
